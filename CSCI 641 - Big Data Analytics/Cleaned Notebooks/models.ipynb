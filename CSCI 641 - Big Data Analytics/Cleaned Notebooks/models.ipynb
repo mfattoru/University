{
 "cells": [
  {
   "cell_type": "code",
   "execution_count": 1,
   "metadata": {
    "collapsed": true
   },
   "outputs": [],
   "source": [
    "import pandas as pd\n",
    "import seaborn as sns\n",
    "import matplotlib.pyplot as plt\n",
    "import numpy as np\n",
    "from numpy import nan"
   ]
  },
  {
   "cell_type": "markdown",
   "metadata": {},
   "source": [
    "# Import the data and process it"
   ]
  },
  {
   "cell_type": "code",
   "execution_count": 2,
   "metadata": {
    "collapsed": true,
    "scrolled": true
   },
   "outputs": [],
   "source": [
    "# import the data\n",
    "\n",
    "data = pd.read_csv('final_dataset_with_reactions.csv')\n",
    "# data = pd.read_csv('altmetrics_dataset_facebook')"
   ]
  },
  {
   "cell_type": "code",
   "execution_count": 3,
   "metadata": {},
   "outputs": [
    {
     "name": "stdout",
     "output_type": "stream",
     "text": [
      "<class 'pandas.core.frame.DataFrame'>\n",
      "RangeIndex: 11474 entries, 0 to 11473\n",
      "Data columns (total 17 columns):\n",
      "altmetric_id          11474 non-null float64\n",
      "title                 11424 non-null object\n",
      "subjects              8310 non-null object\n",
      "abstract              9253 non-null object\n",
      "pubdate               11474 non-null object\n",
      "fb_wall_count         11474 non-null int64\n",
      "scopus_subjects       11474 non-null object\n",
      "publisher_subjects    11474 non-null object\n",
      "fb_wall_urls          11474 non-null object\n",
      "shares                11474 non-null int64\n",
      "visibility            11299 non-null float64\n",
      "total_like            11474 non-null int64\n",
      "total_love            11474 non-null int64\n",
      "total_wow             11474 non-null int64\n",
      "total_haha            11474 non-null int64\n",
      "total_sad             11474 non-null int64\n",
      "total_angry           11474 non-null int64\n",
      "dtypes: float64(2), int64(8), object(7)\n",
      "memory usage: 1.5+ MB\n"
     ]
    }
   ],
   "source": [
    "data.info()"
   ]
  },
  {
   "cell_type": "code",
   "execution_count": 4,
   "metadata": {
    "collapsed": true
   },
   "outputs": [],
   "source": [
    "data['fb_wall_urls'] = data['fb_wall_urls'].map(lambda x: eval(x))\n",
    "\n",
    "# drop all non-reaction features\n",
    "col_to_drop = ['altmetric_id', 'title', 'subjects', 'abstract', 'pubdate', \n",
    "               'scopus_subjects', 'publisher_subjects', 'fb_wall_urls']\n",
    "\n",
    "drop_data = data.drop(labels=col_to_drop, axis=1)"
   ]
  },
  {
   "cell_type": "markdown",
   "metadata": {},
   "source": [
    "# Feature normalization"
   ]
  },
  {
   "cell_type": "code",
   "execution_count": 5,
   "metadata": {
    "scrolled": true
   },
   "outputs": [
    {
     "name": "stdout",
     "output_type": "stream",
     "text": [
      "<class 'pandas.core.frame.DataFrame'>\n",
      "Int64Index: 11299 entries, 0 to 11473\n",
      "Data columns (total 9 columns):\n",
      "fb_wall_count    11299 non-null int64\n",
      "shares           11299 non-null int64\n",
      "visibility       11299 non-null float64\n",
      "total_like       11299 non-null int64\n",
      "total_love       11299 non-null int64\n",
      "total_wow        11299 non-null int64\n",
      "total_haha       11299 non-null int64\n",
      "total_sad        11299 non-null int64\n",
      "total_angry      11299 non-null int64\n",
      "dtypes: float64(1), int64(8)\n",
      "memory usage: 882.7 KB\n"
     ]
    }
   ],
   "source": [
    "# Copy dataset of dropped values for manipulation\n",
    "\n",
    "exp = drop_data.copy()\n",
    "exp = exp[(exp != 0).any(axis=1)]\n",
    "exp = exp.dropna(subset=['visibility'])\n",
    "exp = exp.where(exp['visibility'] != 0)\n",
    "exp.dropna(inplace=True)\n",
    "exp.info()"
   ]
  },
  {
   "cell_type": "code",
   "execution_count": 6,
   "metadata": {},
   "outputs": [
    {
     "name": "stdout",
     "output_type": "stream",
     "text": [
      "<class 'pandas.core.frame.DataFrame'>\n",
      "Int64Index: 11299 entries, 0 to 11473\n",
      "Data columns (total 9 columns):\n",
      "fb_wall_count    11299 non-null float64\n",
      "shares           11299 non-null float64\n",
      "visibility       11299 non-null float64\n",
      "total_like       11299 non-null float64\n",
      "total_love       11299 non-null float64\n",
      "total_wow        11299 non-null float64\n",
      "total_haha       11299 non-null float64\n",
      "total_sad        11299 non-null float64\n",
      "total_angry      11299 non-null float64\n",
      "dtypes: float64(9)\n",
      "memory usage: 882.7 KB\n"
     ]
    }
   ],
   "source": [
    "# Apply root normalization\n",
    "\n",
    "for col in exp.columns:\n",
    "    minim = exp[col].min()\n",
    "    maxim = exp[col].max()\n",
    "    exp[col] = exp[col].map(lambda x: ((x - minim) / (maxim-minim)) ** (1/3))\n",
    "\n",
    "exp.info()"
   ]
  },
  {
   "cell_type": "code",
   "execution_count": 7,
   "metadata": {
    "collapsed": true
   },
   "outputs": [],
   "source": [
    "# exp = exp.drop(labels=['fb_wall_count', ], axis=1)\n",
    "exp = exp.drop(labels=['shares', ], axis=1)\n",
    "\n",
    "exp['total_sad_angry'] = exp['total_sad'] + exp['total_angry']\n",
    "exp = exp.drop(labels=['total_sad', 'total_angry'], axis=1)\n",
    "\n",
    "exp['total_love_wow'] = exp['total_love'] + exp['total_wow']\n",
    "exp = exp.drop(labels=['total_love', 'total_wow'], axis=1)\n",
    "\n",
    "exp = exp.drop(['total_like'], axis=1)"
   ]
  },
  {
   "cell_type": "markdown",
   "metadata": {},
   "source": [
    "# Add subjects back in"
   ]
  },
  {
   "cell_type": "code",
   "execution_count": 8,
   "metadata": {
    "collapsed": true
   },
   "outputs": [],
   "source": [
    "for i in exp.index:\n",
    "    exp.loc[i, 'subject'] = data.loc[i, 'scopus_subjects']"
   ]
  },
  {
   "cell_type": "markdown",
   "metadata": {},
   "source": [
    "# Build a model"
   ]
  },
  {
   "cell_type": "markdown",
   "metadata": {},
   "source": [
    "## Random forest"
   ]
  },
  {
   "cell_type": "code",
   "execution_count": 9,
   "metadata": {},
   "outputs": [],
   "source": [
    "from sklearn.model_selection import train_test_split\n",
    "from sklearn.neighbors import KNeighborsClassifier\n",
    "from sklearn.ensemble import RandomForestClassifier\n",
    "from sklearn.model_selection import GridSearchCV\n",
    "from sklearn.model_selection import StratifiedShuffleSplit\n",
    "from sklearn.model_selection import StratifiedKFold\n",
    "from sklearn.model_selection import KFold\n",
    "from sklearn.metrics import classification_report"
   ]
  },
  {
   "cell_type": "code",
   "execution_count": 10,
   "metadata": {
    "collapsed": true
   },
   "outputs": [],
   "source": [
    "# Change the class label, and split it from the data\n",
    "\n",
    "exp['subject'] = pd.factorize(exp['subject'])[0]\n",
    "\n",
    "X = exp.drop(['subject'], axis=1)\n",
    "y = exp['subject']"
   ]
  },
  {
   "cell_type": "code",
   "execution_count": 11,
   "metadata": {
    "collapsed": true
   },
   "outputs": [],
   "source": [
    "X_train, X_test, y_train, y_test = train_test_split(X, y, test_size=0.2, stratify=y)"
   ]
  },
  {
   "cell_type": "code",
   "execution_count": 16,
   "metadata": {},
   "outputs": [
    {
     "name": "stdout",
     "output_type": "stream",
     "text": [
      "             precision    recall  f1-score   support\n",
      "\n",
      "          0       0.69      0.71      0.70       955\n",
      "          1       0.68      0.65      0.67       672\n",
      "          2       0.49      0.51      0.50       336\n",
      "          3       0.55      0.51      0.53       297\n",
      "\n",
      "avg / total       0.64      0.64      0.64      2260\n",
      "\n"
     ]
    }
   ],
   "source": [
    "# Test a model with the ideal parameters\n",
    "\n",
    "rfc = RandomForestClassifier(bootstrap=True, criterion='gini', max_depth=None, \n",
    "                             n_estimators=12, class_weight='balanced_subsample')\n",
    "rfc.fit(X_train, y_train)\n",
    "y_pred = rfc.predict(X_test)\n",
    "\n",
    "print(classification_report(y_test, y_pred))"
   ]
  },
  {
   "cell_type": "markdown",
   "metadata": {},
   "source": [
    "# Plot the ROC curve"
   ]
  },
  {
   "cell_type": "code",
   "execution_count": 17,
   "metadata": {
    "collapsed": true
   },
   "outputs": [],
   "source": [
    "sns.set()\n",
    "\n",
    "from sklearn.metrics import roc_curve, auc\n",
    "from sklearn.multiclass import OneVsRestClassifier\n",
    "from sklearn.preprocessing import label_binarize\n",
    "from scipy import interp\n",
    "\n",
    "# iris = datasets.load_iris()\n",
    "# X, y = iris.data, iris.target\n",
    "\n",
    "y = label_binarize(y, classes=[0,1,2,3])\n",
    "n_classes = 4\n",
    "\n",
    "# shuffle and split training and test sets\n",
    "X_train, X_test, y_train, y_test =\\\n",
    "    train_test_split(X, y, test_size=0.33, random_state=0)\n",
    "\n",
    "# classifier\n",
    "clf = OneVsRestClassifier(RandomForestClassifier(bootstrap=True, criterion='gini', \n",
    "                                                 max_depth=None, n_estimators=12, class_weight='balanced_subsample'))\n",
    "y_score = clf.fit(X_train, y_train).predict(X_test)\n",
    "\n",
    "# Compute ROC curve and ROC area for each class\n",
    "fpr = dict()\n",
    "tpr = dict()\n",
    "roc_auc = dict()\n",
    "\n",
    "for i in range(n_classes):\n",
    "    fpr[i], tpr[i], _ = roc_curve(y_test[:, i], y_score[:, i])\n",
    "    roc_auc[i] = auc(fpr[i], tpr[i])\n",
    "\n",
    "# Plot of a ROC curve for a specific class\n",
    "# for i in range(n_classes):\n",
    "#     plt.figure()\n",
    "#     plt.plot(fpr[i], tpr[i], label='ROC curve (area = %0.2f)' % roc_auc[i])\n",
    "#     plt.plot([0, 1], [0, 1], 'k--')\n",
    "#     plt.xlim([0.0, 1.0])\n",
    "#     plt.ylim([0.0, 1.05])\n",
    "#     plt.xlabel('False Positive Rate')\n",
    "#     plt.ylabel('True Positive Rate')\n",
    "#     plt.title('Receiver operating characteristic example')\n",
    "#     plt.legend(loc=\"lower right\")\n",
    "#     plt.show()"
   ]
  },
  {
   "cell_type": "code",
   "execution_count": 18,
   "metadata": {
    "collapsed": true
   },
   "outputs": [],
   "source": [
    "import numpy as np\n",
    "import matplotlib.pyplot as plt\n",
    "from itertools import cycle\n",
    "\n",
    "from sklearn import svm, datasets\n",
    "from sklearn.metrics import roc_curve, auc\n",
    "from sklearn.model_selection import train_test_split\n",
    "from sklearn.preprocessing import label_binarize\n",
    "from sklearn.multiclass import OneVsRestClassifier\n",
    "from scipy import interp\n",
    "\n",
    "# Import some data to play with\n",
    "# iris = datasets.load_iris()\n",
    "# X = iris.data\n",
    "# y = iris.target\n",
    "\n",
    "# Binarize the output\n",
    "y = label_binarize(y, classes=[0, 1, 2, 3])\n",
    "n_classes = y.shape[1]\n",
    "\n",
    "# Add noisy features to make the problem harder\n",
    "random_state = np.random.RandomState(0)\n",
    "n_samples, n_features = X.shape\n",
    "# X = np.c_[X, random_state.randn(n_samples, 200 * n_features)]\n",
    "\n",
    "# shuffle and split training and test sets\n",
    "X_train, X_test, y_train, y_test = train_test_split(X, y, test_size=.2,\n",
    "                                                    random_state=42)\n",
    "\n",
    "# Learn to predict each class against the other\n",
    "classifier = OneVsRestClassifier(RandomForestClassifier(bootstrap=True, criterion='gini', \n",
    "                                                        max_depth=None, n_estimators=10))\n",
    "y_score = classifier.fit(X_train, y_train).predict_proba(X_test)\n",
    "\n",
    "# Compute ROC curve and ROC area for each class\n",
    "fpr = dict()\n",
    "tpr = dict()\n",
    "roc_auc = dict()\n",
    "for i in range(n_classes):\n",
    "    fpr[i], tpr[i], _ = roc_curve(y_test[:, i], y_score[:, i])\n",
    "    roc_auc[i] = auc(fpr[i], tpr[i])\n",
    "\n",
    "# Compute micro-average ROC curve and ROC area\n",
    "fpr[\"micro\"], tpr[\"micro\"], _ = roc_curve(y_test.ravel(), y_score.ravel())\n",
    "roc_auc[\"micro\"] = auc(fpr[\"micro\"], tpr[\"micro\"])"
   ]
  },
  {
   "cell_type": "code",
   "execution_count": 19,
   "metadata": {},
   "outputs": [
    {
     "data": {
      "image/png": "[encoded data removed]",
      "text/plain": [
       "<matplotlib.figure.Figure at 0x7f8a590d5c88>"
      ]
     },
     "metadata": {},
     "output_type": "display_data"
    }
   ],
   "source": [
    "plt.figure()\n",
    "lw = 2\n",
    "plt.plot(fpr[2], tpr[2], color='darkorange',\n",
    "         lw=lw, label='ROC curve (area = %0.2f)' % roc_auc[2])\n",
    "plt.plot([0, 1], [0, 1], color='navy', lw=lw, linestyle='--')\n",
    "plt.xlim([0.0, 1.0])\n",
    "plt.ylim([0.0, 1.05])\n",
    "plt.xlabel('False Positive Rate')\n",
    "plt.ylabel('True Positive Rate')\n",
    "plt.title('Receiver operating characteristic example')\n",
    "plt.legend(loc=\"lower right\")\n",
    "plt.show()"
   ]
  },
  {
   "cell_type": "code",
   "execution_count": 20,
   "metadata": {},
   "outputs": [
    {
     "data": {
      "image/png": "[encoded data removed]",
      "text/plain": [
       "<matplotlib.figure.Figure at 0x7f8a580474e0>"
      ]
     },
     "metadata": {},
     "output_type": "display_data"
    }
   ],
   "source": [
    "# Compute macro-average ROC curve and ROC area\n",
    "\n",
    "# First aggregate all false positive rates\n",
    "all_fpr = np.unique(np.concatenate([fpr[i] for i in range(n_classes)]))\n",
    "\n",
    "# Then interpolate all ROC curves at this points\n",
    "mean_tpr = np.zeros_like(all_fpr)\n",
    "for i in range(n_classes):\n",
    "    mean_tpr += interp(all_fpr, fpr[i], tpr[i])\n",
    "\n",
    "# Finally average it and compute AUC\n",
    "mean_tpr /= n_classes\n",
    "\n",
    "fpr[\"macro\"] = all_fpr\n",
    "tpr[\"macro\"] = mean_tpr\n",
    "roc_auc[\"macro\"] = auc(fpr[\"macro\"], tpr[\"macro\"])\n",
    "\n",
    "# Plot all ROC curves\n",
    "plt.figure()\n",
    "plt.plot(fpr[\"micro\"], tpr[\"micro\"],\n",
    "         label='micro-average ROC curve (area = {0:0.2f})'\n",
    "               ''.format(roc_auc[\"micro\"]),\n",
    "         color='deeppink', linestyle=':', linewidth=4)\n",
    "\n",
    "plt.plot(fpr[\"macro\"], tpr[\"macro\"],\n",
    "         label='macro-average ROC curve (area = {0:0.2f})'\n",
    "               ''.format(roc_auc[\"macro\"]),\n",
    "         color='navy', linestyle=':', linewidth=4)\n",
    "\n",
    "colors = cycle(sns.color_palette())\n",
    "for i, color in zip(range(n_classes), colors):\n",
    "    plt.plot(fpr[i], tpr[i], color=color, lw=lw,\n",
    "             label='ROC curve of class {0} (area = {1:0.2f})'\n",
    "             ''.format(i, roc_auc[i]))\n",
    "\n",
    "plt.plot([0, 1], [0, 1], 'k--', lw=lw)\n",
    "plt.xlim([0.0, 1.0])\n",
    "plt.ylim([0.0, 1.05])\n",
    "plt.xlabel('False Positive Rate')\n",
    "plt.ylabel('True Positive Rate')\n",
    "# plt.title('Some extension of Receiver operating characteristic to multi-class')\n",
    "plt.legend(loc=\"lower right\")\n",
    "plt.show()"
   ]
  },
  {
   "cell_type": "markdown",
   "metadata": {},
   "source": [
    "## K Neighbors classifier"
   ]
  },
  {
   "cell_type": "code",
   "execution_count": 21,
   "metadata": {},
   "outputs": [
    {
     "name": "stdout",
     "output_type": "stream",
     "text": [
      "             precision    recall  f1-score   support\n",
      "\n",
      "          0       0.73      0.68      0.70       949\n",
      "          1       0.73      0.65      0.69       677\n",
      "          2       0.62      0.47      0.53       343\n",
      "          3       0.61      0.50      0.55       291\n",
      "\n",
      "avg / total       0.70      0.62      0.65      2260\n",
      "\n"
     ]
    }
   ],
   "source": [
    "# Test a model with the ideal parameters\n",
    "\n",
    "knn_classifier = KNeighborsClassifier(algorithm='brute', n_neighbors=5, weights='distance')\n",
    "\n",
    "knn_classifier.fit(X_train, y_train)\n",
    "\n",
    "y_pred = knn_classifier.predict(X_test)\n",
    "\n",
    "print(classification_report(y_test, y_pred))"
   ]
  },
  {
   "cell_type": "markdown",
   "metadata": {},
   "source": [
    "# Decision tree classifier"
   ]
  },
  {
   "cell_type": "code",
   "execution_count": 22,
   "metadata": {},
   "outputs": [
    {
     "name": "stdout",
     "output_type": "stream",
     "text": [
      "             precision    recall  f1-score   support\n",
      "\n",
      "          0       0.72      0.70      0.71       949\n",
      "          1       0.71      0.65      0.68       677\n",
      "          2       0.57      0.52      0.54       343\n",
      "          3       0.58      0.51      0.54       291\n",
      "\n",
      "avg / total       0.68      0.63      0.65      2260\n",
      "\n"
     ]
    }
   ],
   "source": [
    "from sklearn.tree import DecisionTreeClassifier\n",
    "\n",
    "tree = DecisionTreeClassifier(criterion='entropy', max_depth=None, splitter='best')\n",
    "\n",
    "tree.fit(X_train, y_train)\n",
    "\n",
    "y_pred = tree.predict(X_test)\n",
    "\n",
    "print(classification_report(y_test, y_pred))"
   ]
  },
  {
   "cell_type": "code",
   "execution_count": null,
   "metadata": {
    "collapsed": true
   },
   "outputs": [],
   "source": []
  }
 ],
 "metadata": {
  "kernelspec": {
   "display_name": "Python 3",
   "language": "python",
   "name": "python3"
  },
  "language_info": {
   "codemirror_mode": {
    "name": "ipython",
    "version": 3
   },
   "file_extension": ".py",
   "mimetype": "text/x-python",
   "name": "python",
   "nbconvert_exporter": "python",
   "pygments_lexer": "ipython3",
   "version": "3.6.3"
  }
 },
 "nbformat": 4,
 "nbformat_minor": 2
}
